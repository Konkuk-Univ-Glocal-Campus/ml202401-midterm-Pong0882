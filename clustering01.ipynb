{
 "cells": [
  {
   "cell_type": "markdown",
   "metadata": {},
   "source": [
    "# Nigerian Music scraped from Spotify - an analysis"
   ]
  },
  {
   "cell_type": "code",
   "execution_count": null,
   "metadata": {},
   "outputs": [],
   "source": [
    "# clustering ex) 레고를 모양별로 분류할것인가 색깔별로 분류할 것인가?\n",
    "# 용도별로 분류?\n",
    "\n",
    "# 책 분류를 어떻게 할까? // 책의 내용에 따라 분류 할 것인가? 크기에 따라 분류 할 것인가?\n",
    "# 훈련데이터를 수집하는게 쉽지 않은데 훈련데이터 없이는 불가능 한가?\n",
    "\n",
    "# 클러스터링 > 결과를 인간이 깨달아야만 함 >> 분류의 전달 // 바텀-업 방식 / 데이터를 분석하면서 어떤식으로 구성되었는지 알게 됨\n",
    "# 클러스터링 : 비지도 학습 / 데이터셋에 라벨이 없다 : 답이 정해져 있지 않음 / 입력이 우리가 알고 있는 출력과 연결되어있지 않음\n",
    "# 여러 그룹을 자신이 만들어내(특징을 가지고) 분류함\n",
    "# 데이터를 탐구하는데 사용\n",
    "\n",
    "# 클러스터링의 활용 : 빨래를 하는데 여러번에 나눠 할 수 있다 >> 색깔에 따라\n",
    "# 운동하는데 팀을나눠, 두팀으로 나눌라는데 이건 분류야? 클러스터링이야?\n",
    "# 혼동에서 어느정도의 질서를 찾으려고 하는 것 : 클러스터링..\n",
    "\n",
    "# 나이별로 주로 사는 물건의 분류는 클러스터링이라 할 수 있다  \n",
    "# 투표 성향을 볼라면 나이, 지역, 수입 등등 봐야할것\n",
    "\n",
    "# Scikit-learn offerings \n",
    "# K-Means : general purpose, inductive / ...\n",
    "# Ward hierarchial clustering 도 많이 사용함\n",
    "\n",
    "# non-flat vs flat \n",
    "# falt : 두점을 직각삼각형으로 거리 재는거?\n",
    "\n",
    "# euclidean distances : 두점의 직선\n",
    "# non euclidean : 곡선??\n",
    "\n",
    "\n",
    "# clustroid : 각자 데이터포인트에서 어떤라벨에서 가장 가까운지?\n",
    "# Constrained clustering \n",
    "\n",
    "\n",
    "# noisy\n",
    "\n",
    "########## 중간 대체 과제 ############\n",
    "# Hierarchical clustering\n",
    "# 가장 가까운 2개를 찾아, \n",
    "\n",
    "# Centroid clustering\n",
    "# 가장 보편적인 clustering\n",
    "\n",
    "# distribution-based clustering\n",
    "# 밀도를 이용하여 clustering\n",
    "\n",
    "# Grid-based clustering\n",
    "# 어느 서랍에 넣을까...?\n",
    "\n",
    "###############################################\n",
    "# 데이터를 자신의 리포지터리에 넣을것!\n"
   ]
  },
  {
   "cell_type": "code",
   "execution_count": null,
   "metadata": {},
   "outputs": [],
   "source": [
    "# import the Seaborn package for good data visualization.\n",
    "\n",
    "%pip install seaborn"
   ]
  },
  {
   "cell_type": "code",
   "execution_count": 2,
   "metadata": {},
   "outputs": [],
   "source": [
    "import matplotlib.pyplot as plt\n",
    "import pandas as pd"
   ]
  },
  {
   "cell_type": "code",
   "execution_count": 3,
   "metadata": {},
   "outputs": [
    {
     "data": {
      "text/html": [
       "<div>\n",
       "<style scoped>\n",
       "    .dataframe tbody tr th:only-of-type {\n",
       "        vertical-align: middle;\n",
       "    }\n",
       "\n",
       "    .dataframe tbody tr th {\n",
       "        vertical-align: top;\n",
       "    }\n",
       "\n",
       "    .dataframe thead th {\n",
       "        text-align: right;\n",
       "    }\n",
       "</style>\n",
       "<table border=\"1\" class=\"dataframe\">\n",
       "  <thead>\n",
       "    <tr style=\"text-align: right;\">\n",
       "      <th></th>\n",
       "      <th>�⵵</th>\n",
       "      <th>������Ī</th>\n",
       "      <th>����</th>\n",
       "      <th>����.1</th>\n",
       "      <th>����.2</th>\n",
       "      <th>����(��������)</th>\n",
       "      <th>�÷����(m)</th>\n",
       "      <th>ī���(mg_kg)</th>\n",
       "      <th>����(mg_kg)</th>\n",
       "      <th>���(mg_kg)</th>\n",
       "      <th>...</th>\n",
       "      <th>����(mg_kg).4</th>\n",
       "      <th>��翣(mg_kg)</th>\n",
       "      <th>��ƿ����(mg_kg)</th>\n",
       "      <th>ũ�Ƿ�(mg_kg)</th>\n",
       "      <th>��������źȭ����(TPH)(mg_kg)</th>\n",
       "      <th>Ʈ��Ŭ�ηο�ƿ��(TCE)(mg_kg)</th>\n",
       "      <th>��Ʈ��Ŭ�ηο�ƿ��(PCE)(mg_kg)</th>\n",
       "      <th>����(a)�Ƿ�(mg_kg)</th>\n",
       "      <th>12��Ŭ�ηο�ź(mg_kg)</th>\n",
       "      <th>�����̿³�(pH)</th>\n",
       "    </tr>\n",
       "  </thead>\n",
       "  <tbody>\n",
       "    <tr>\n",
       "      <th>0</th>\n",
       "      <td>2021.0</td>\n",
       "      <td>���Ļ�ä(��)</td>\n",
       "      <td>������� �� ��������</td>\n",
       "      <td>����(2����)</td>\n",
       "      <td>2����</td>\n",
       "      <td>374.0</td>\n",
       "      <td>0.3~3</td>\n",
       "      <td>1.77</td>\n",
       "      <td>75.6</td>\n",
       "      <td>8.12</td>\n",
       "      <td>...</td>\n",
       "      <td>NaN</td>\n",
       "      <td>NaN</td>\n",
       "      <td>NaN</td>\n",
       "      <td>NaN</td>\n",
       "      <td>NaN</td>\n",
       "      <td>0.0</td>\n",
       "      <td>0.0</td>\n",
       "      <td>NaN</td>\n",
       "      <td>0.0</td>\n",
       "      <td>7.3</td>\n",
       "    </tr>\n",
       "    <tr>\n",
       "      <th>1</th>\n",
       "      <td>2021.0</td>\n",
       "      <td>��ȭ���μ�(��)</td>\n",
       "      <td>������� �� ��������</td>\n",
       "      <td>����(2����)</td>\n",
       "      <td>2����</td>\n",
       "      <td>297.0</td>\n",
       "      <td>0.3~3</td>\n",
       "      <td>0.47</td>\n",
       "      <td>10.8</td>\n",
       "      <td>8.23</td>\n",
       "      <td>...</td>\n",
       "      <td>NaN</td>\n",
       "      <td>NaN</td>\n",
       "      <td>NaN</td>\n",
       "      <td>NaN</td>\n",
       "      <td>NaN</td>\n",
       "      <td>0.0</td>\n",
       "      <td>0.0</td>\n",
       "      <td>NaN</td>\n",
       "      <td>0.0</td>\n",
       "      <td>7.6</td>\n",
       "    </tr>\n",
       "    <tr>\n",
       "      <th>2</th>\n",
       "      <td>2021.0</td>\n",
       "      <td>101����</td>\n",
       "      <td>������ýü�����</td>\n",
       "      <td>����(2����)</td>\n",
       "      <td>2����</td>\n",
       "      <td>50.0</td>\n",
       "      <td>0.3~3</td>\n",
       "      <td>0.41</td>\n",
       "      <td>13.1</td>\n",
       "      <td>6.79</td>\n",
       "      <td>...</td>\n",
       "      <td>0.0</td>\n",
       "      <td>0.0</td>\n",
       "      <td>0.0</td>\n",
       "      <td>0.0</td>\n",
       "      <td>0.0</td>\n",
       "      <td>0.0</td>\n",
       "      <td>0.0</td>\n",
       "      <td>NaN</td>\n",
       "      <td>0.0</td>\n",
       "      <td>8.2</td>\n",
       "    </tr>\n",
       "    <tr>\n",
       "      <th>3</th>\n",
       "      <td>2021.0</td>\n",
       "      <td>(��)��羾�ؾ� ����������</td>\n",
       "      <td>���ġ���ġ ������ ����</td>\n",
       "      <td>�����ҿ���</td>\n",
       "      <td>3����</td>\n",
       "      <td>603.0</td>\n",
       "      <td>0.3~5</td>\n",
       "      <td>NaN</td>\n",
       "      <td>NaN</td>\n",
       "      <td>NaN</td>\n",
       "      <td>...</td>\n",
       "      <td>0.0</td>\n",
       "      <td>0.0</td>\n",
       "      <td>0.0</td>\n",
       "      <td>0.0</td>\n",
       "      <td>0.0</td>\n",
       "      <td>0.0</td>\n",
       "      <td>0.0</td>\n",
       "      <td>NaN</td>\n",
       "      <td>0.0</td>\n",
       "      <td>10.4</td>\n",
       "    </tr>\n",
       "    <tr>\n",
       "      <th>4</th>\n",
       "      <td>2021.0</td>\n",
       "      <td>������</td>\n",
       "      <td>������ýü�����</td>\n",
       "      <td>����(2����)</td>\n",
       "      <td>2����</td>\n",
       "      <td>81.0</td>\n",
       "      <td>0.3~1</td>\n",
       "      <td>1.21</td>\n",
       "      <td>50.8</td>\n",
       "      <td>6.55</td>\n",
       "      <td>...</td>\n",
       "      <td>0.0</td>\n",
       "      <td>2.1</td>\n",
       "      <td>0.2</td>\n",
       "      <td>0.1</td>\n",
       "      <td>0.0</td>\n",
       "      <td>0.0</td>\n",
       "      <td>0.0</td>\n",
       "      <td>NaN</td>\n",
       "      <td>0.0</td>\n",
       "      <td>11.8</td>\n",
       "    </tr>\n",
       "  </tbody>\n",
       "</table>\n",
       "<p>5 rows × 30 columns</p>\n",
       "</div>"
      ],
      "text/plain": [
       "       �⵵                ������Ī                  ����       ����.1 ����.2  \\\n",
       "0  2021.0             ���Ļ�ä(��)   ������� �� ��������  ����(2����)  2����   \n",
       "1  2021.0           ��ȭ���μ�(��)   ������� �� ��������  ����(2����)  2����   \n",
       "2  2021.0                101����         ������ýü�����  ����(2����)  2����   \n",
       "3  2021.0  (��)��羾�ؾ� ����������  ���ġ���ġ ������ ����    �����ҿ���  3����   \n",
       "4  2021.0                 ������         ������ýü�����  ����(2����)  2����   \n",
       "\n",
       "   ����(��������) �÷����(m)  ī���(mg_kg)  ����(mg_kg)  ���(mg_kg)  ...  \\\n",
       "0           374.0     0.3~3         1.77         75.6        8.12  ...   \n",
       "1           297.0     0.3~3         0.47         10.8        8.23  ...   \n",
       "2            50.0     0.3~3         0.41         13.1        6.79  ...   \n",
       "3           603.0     0.3~5          NaN          NaN         NaN  ...   \n",
       "4            81.0     0.3~1         1.21         50.8        6.55  ...   \n",
       "\n",
       "   ����(mg_kg).4  ��翣(mg_kg)  ��ƿ����(mg_kg)  ũ�Ƿ�(mg_kg)  \\\n",
       "0            NaN         NaN             NaN          NaN   \n",
       "1            NaN         NaN             NaN          NaN   \n",
       "2            0.0         0.0             0.0          0.0   \n",
       "3            0.0         0.0             0.0          0.0   \n",
       "4            0.0         2.1             0.2          0.1   \n",
       "\n",
       "   ��������źȭ����(TPH)(mg_kg)  Ʈ��Ŭ�ηο�ƿ��(TCE)(mg_kg)  \\\n",
       "0                         NaN                      0.0   \n",
       "1                         NaN                      0.0   \n",
       "2                         0.0                      0.0   \n",
       "3                         0.0                      0.0   \n",
       "4                         0.0                      0.0   \n",
       "\n",
       "   ��Ʈ��Ŭ�ηο�ƿ��(PCE)(mg_kg)  ����(a)�Ƿ�(mg_kg)  12��Ŭ�ηο�ź(mg_kg)  \\\n",
       "0                        0.0                NaN                0.0   \n",
       "1                        0.0                NaN                0.0   \n",
       "2                        0.0                NaN                0.0   \n",
       "3                        0.0                NaN                0.0   \n",
       "4                        0.0                NaN                0.0   \n",
       "\n",
       "   �����̿³�(pH)  \n",
       "0           7.3  \n",
       "1           7.6  \n",
       "2           8.2  \n",
       "3          10.4  \n",
       "4          11.8  \n",
       "\n",
       "[5 rows x 30 columns]"
      ]
     },
     "execution_count": 3,
     "metadata": {},
     "output_type": "execute_result"
    }
   ],
   "source": [
    "# append the song data from nigerian-songs.csv.\n",
    "# Load up a dataframe with some data about the songs. \n",
    "\n",
    "df = pd.read_csv(\"./환경부 국립환경과학원_토양오염실태조사 결과_20211231.csv\")\n",
    "df.head()"
   ]
  },
  {
   "cell_type": "markdown",
   "metadata": {},
   "source": [
    "Get information about the dataframe"
   ]
  },
  {
   "cell_type": "code",
   "execution_count": null,
   "metadata": {},
   "outputs": [],
   "source": [
    "df.info()\n",
    "# 너무 큰 데이터는 코드스페이스에서 돌릴수 없으니 주의\n",
    "# 일정한 데이터만 잘라서 사용해도 좋음"
   ]
  },
  {
   "cell_type": "markdown",
   "metadata": {},
   "source": [
    "Double-check for null values, by calling isnull() and verifying the sum being 0"
   ]
  },
  {
   "cell_type": "code",
   "execution_count": null,
   "metadata": {},
   "outputs": [],
   "source": [
    "df.isnull().sum()\n",
    "# 빈 데이터를 확인해야함.. 이거 처리는 전에꺼 보자"
   ]
  },
  {
   "cell_type": "markdown",
   "metadata": {},
   "source": [
    "Look at the general values of the data. Note that popularity can be '0' - and there are many rows with that value"
   ]
  },
  {
   "cell_type": "code",
   "execution_count": null,
   "metadata": {},
   "outputs": [],
   "source": [
    "df.describe()\n",
    "# count, mean. std, min, ... 이런 정보로 정리해줌\n"
   ]
  },
  {
   "cell_type": "markdown",
   "metadata": {},
   "source": [
    "Look at the general values of the data. Note that popularity can be '0', which show songs that have no ranking. Let's remove those\n",
    "\n",
    "Let's examine the genres. Quite a few are listed as 'Missing' which means they aren't categorized in the dataset with a genre "
   ]
  },
  {
   "cell_type": "code",
   "execution_count": null,
   "metadata": {},
   "outputs": [],
   "source": [
    "# use a barplot to find out the most popular genres\n",
    "\n",
    "import seaborn as sns\n",
    "\n",
    "top = df['artist_top_genre'].value_counts()\n",
    "# top : 장르에 대하여 counts 해보자\n",
    "\n",
    "plt.figure(figsize=(7,5))\n",
    "# 그래프의 가로 세로 크기를 지정 (가로, 세로)\n",
    "\n",
    "sns.barplot(x=top[:5].index,y=top[:5].values)\n",
    "# 막대 그래프 상위 5개의 장르에 대하여 // x 축을 상위 장르 5개의 인덱스로 접근\n",
    "\n",
    "plt.xticks(rotation=45)\n",
    "# x축의 막대그래프 기울기... 별 필요 없다\n",
    "\n",
    "plt.title('Top genres',color = 'blue')\n",
    "# 타이틀 제목"
   ]
  },
  {
   "cell_type": "markdown",
   "metadata": {},
   "source": [
    "Remove 'Missing' genres, as it's not classified in Spotify\n"
   ]
  },
  {
   "cell_type": "code",
   "execution_count": null,
   "metadata": {},
   "outputs": [],
   "source": [
    "df = df[df['artist_top_genre'] != 'Missing']\n",
    "# missing 아닌 장르들로만 df 구성\n",
    "\n",
    "top = df['artist_top_genre'].value_counts()\n",
    "# top 에 각 장르의 수 counts\n",
    "\n",
    "plt.figure(figsize=(10,7))\n",
    "sns.barplot(x=top[:5].index,y=top[:5].values)\n",
    "\n",
    "plt.xticks(rotation=45)\n",
    "plt.title('Top genres',color = 'blue')"
   ]
  },
  {
   "cell_type": "code",
   "execution_count": null,
   "metadata": {},
   "outputs": [],
   "source": [
    "df = df[df['artist_top_genre'] != 'Missing']\n",
    "# missing 아닌 장르들로만 df 구성\n",
    "\n",
    "top = df['artist_top_genre'].value_counts()\n",
    "# top 에 각 장르의 수 counts\n",
    "\n",
    "plt.figure(figsize=(10,7))\n",
    "sns.barplot(x=top.index,y=top.values)\n",
    "\n",
    "plt.xticks(rotation=45)\n",
    "plt.title('Top genres',color = 'blue')"
   ]
  },
  {
   "cell_type": "markdown",
   "metadata": {},
   "source": [
    "By far, the top three genres dominate this dataset. Let's concentrate on afro dancehall, afropop, and nigerian pop, additionally filter the dataset to remove anything with a 0 popularity value (meaning it was not classified with a popularity in the dataset and can be considered noise for our purposes)"
   ]
  },
  {
   "cell_type": "code",
   "execution_count": null,
   "metadata": {},
   "outputs": [],
   "source": [
    "# 인기도가 너무 없으면 noise가 될 수 있기 때문에 data를 이쁘게 추출하는게 중요\n",
    "\n",
    "#################################################################\n",
    "# 중간 대체 과제에서 아무리 데이터가 좋아도 하나정도는 날리는 작업을 해주는 것이 필요\n",
    "\n",
    "# 아마 missing data는 왠만하면 있을것\n",
    "###############################################################\n",
    "\n",
    "df = df[(df['artist_top_genre'] == 'afro dancehall') | (df['artist_top_genre'] == 'afropop') | (df['artist_top_genre'] == 'nigerian pop')]\n",
    "#가장 값이 많은 데이터 3개만 추출 하는 방법\n",
    "\n",
    "df = df[(df['popularity'] > 0)]\n",
    "# 그 데이터들 중 인기도가 0 초과 인것들\n",
    "\n",
    "top = df['artist_top_genre'].value_counts()\n",
    "\n",
    "plt.figure(figsize=(10,7))\n",
    "sns.barplot(x=top.index,y=top.values)\n",
    "plt.xticks(rotation=45)\n",
    "plt.title('Top genres',color = 'blue')"
   ]
  },
  {
   "cell_type": "markdown",
   "metadata": {},
   "source": [
    "The data is not strongly correlated except between energy and loudness, which makes sense. Popularity has a correspondence to release data, which also makes sense, as more recent songs are probably more popular. Length and energy seem to have a correlation - perhaps shorter songs are more energetic?"
   ]
  },
  {
   "cell_type": "code",
   "execution_count": null,
   "metadata": {},
   "outputs": [],
   "source": [
    "# do a quick test to see if the data correlates in any particularly strong way\n",
    "\n",
    "## 에너지와 소리크기 이외에는 상관 관계가 적다.\n",
    "## 출시일에 따라 인기도가 상관 관계 있다.\n",
    "## 짧은 노래 일수록 에너지틱 한가?\n",
    "\n",
    "\n",
    "df_modified = df.iloc[:, 4:]\n",
    "# 모듣 행을 선택, 열은 index가 4 이상인 것부터 추출\n",
    "# 4번열 까지의 data들이 text로 이루어 져 있음\n",
    "#\n",
    "\n",
    "corrmat = df_modified.corr()\n",
    "# 상관 관계를 행렬로 표시하는 과정!!!!\n",
    "\n",
    "f, ax = plt.subplots(figsize=(10, 5))\n",
    "# f는 캠버스, ax는 개별 차트\n",
    "# plt.subplots(figsize=(전체 크기, 블럭크기))\n",
    "\n",
    "#sns.heatmap(corrmat, vmax=1, vmin=-1, square=True);\n",
    "sns.heatmap(corrmat, vmax=0.8, square=True);\n",
    "# seaborn 라이브러리 사용\n",
    "# heatmap : 데이터 값에 따라 색을 다르게 표현해주는 map\n",
    "# corrmat : 상관 행렬\n",
    "# vmax : 색상 맵에서 최대 값\n",
    "\n",
    "# 결과값을 보면 출시일과 길이는 전혀 연관이 없다.\n",
    "# 에너지와 시끄러움은 연관이 크다."
   ]
  },
  {
   "cell_type": "markdown",
   "metadata": {},
   "source": [
    "# The only strong correlation is between energy and loudness, which is not too surprising, given that loud music is usually pretty energetic. Otherwise, the correlations are relatively weak.\n",
    "\n",
    "Note that correlation does not imply causation! We have proof of correlation but no proof of causation."
   ]
  },
  {
   "cell_type": "markdown",
   "metadata": {},
   "source": [
    "Are the genres significantly different in the perception of their danceability, based on their popularity? Examine our top three genres data distribution for popularity and danceability along a given x and y axis "
   ]
  },
  {
   "cell_type": "code",
   "execution_count": null,
   "metadata": {},
   "outputs": [],
   "source": [
    "# examine our top three genres data distribution for popularity and danceability along a given x and y axis\n",
    "\n",
    "import seaborn as sns\n",
    "\n",
    "sns.set_theme(style=\"ticks\")\n",
    "\n",
    "# Show the joint distribution using kernel density estimation\n",
    "g = sns.jointplot(\n",
    "    data = df,\n",
    "    x=\"popularity\", y=\"danceability\", hue=\"artist_top_genre\",\n",
    "    kind=\"kde\",\n",
    ")\n",
    "\n",
    "# 3개의 특성을 보는것..? 원들이 그려지는 이유?\n",
    "# 연속적인 확률 / 각데이터의 분포를 보여주는것?\n",
    "# 분포가 비슷하다는걸 보여주는거라고...?\n",
    "\n",
    "# 얼추보니 동글동글 뭉칠라하네 라는건가 // 다른것도 시도해 볼 것\n",
    "\n",
    "# "
   ]
  },
  {
   "cell_type": "markdown",
   "metadata": {},
   "source": [
    "We can discover concentric circles around a general point of convergence, showing the distribution of points.\n",
    "\n",
    "Note that this example uses a KDE (Kernel Density Estimate) graph that represents the data using a continuous probability density curve. This allows us to interpret data when working with multiple distributions.\n",
    "\n",
    "In general, the three genres align in terms of their popularity and danceability. A scatterplot of the same axes shows a similar pattern of convergence. Try a scatterplot to check the distribution of data per genre"
   ]
  },
  {
   "cell_type": "code",
   "execution_count": null,
   "metadata": {},
   "outputs": [],
   "source": [
    "sns.FacetGrid(df, hue=\"artist_top_genre\") \\\n",
    "   .map(plt.scatter, \"popularity\", \"danceability\") \\\n",
    "   .add_legend()\n",
    "   \n",
    "# 인기도와 춤가능률의 연관관계가 앵간 있다?\n",
    "# 나이지리아팝은 예외가 하나있네?\n",
    "# 아프로팝이 가장 명확하다고 볼 수 있는거?\n"
   ]
  },
  {
   "cell_type": "markdown",
   "metadata": {},
   "source": [
    "A scatterplot of the same axes shows a similar pattern of convergence\n",
    "\n",
    "In general, for clustering, we can use scatterplots to show clusters of data, so mastering this type of visualization is very useful"
   ]
  }
 ],
 "metadata": {
  "interpreter": {
   "hash": "31f2aee4e71d21fbe5cf8b01ff0e069b9275f58929596ceb00d14d90e3e16cd6"
  },
  "kernelspec": {
   "display_name": "Python 3.7.0 64-bit ('3.7')",
   "language": "python",
   "name": "python3"
  },
  "language_info": {
   "codemirror_mode": {
    "name": "ipython",
    "version": 3
   },
   "file_extension": ".py",
   "mimetype": "text/x-python",
   "name": "python",
   "nbconvert_exporter": "python",
   "pygments_lexer": "ipython3",
   "version": "3.11.5"
  },
  "metadata": {
   "interpreter": {
    "hash": "70b38d7a306a849643e446cd70466270a13445e5987dfa1344ef2b127438fa4d"
   }
  },
  "orig_nbformat": 2
 },
 "nbformat": 4,
 "nbformat_minor": 2
}
